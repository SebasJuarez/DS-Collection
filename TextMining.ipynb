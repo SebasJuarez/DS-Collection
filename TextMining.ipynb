{
 "cells": [
  {
   "cell_type": "markdown",
   "id": "2c76ac79",
   "metadata": {},
   "source": [
    "# Laboratorio 5 - Minería de Textos y Análisis de Sentimientos"
   ]
  },
  {
   "cell_type": "markdown",
   "id": "a1e51d20",
   "metadata": {},
   "source": [
    "### Sebastian Juarez - 21471\n",
    "### Juan Pablo Cordón - 21458\n",
    "\n",
    "Link al repositorio de Github: https://github.com/SebasJuarez/DS-Collection/tree/Lab5"
   ]
  }
 ],
 "metadata": {
  "language_info": {
   "name": "python"
  }
 },
 "nbformat": 4,
 "nbformat_minor": 5
}
