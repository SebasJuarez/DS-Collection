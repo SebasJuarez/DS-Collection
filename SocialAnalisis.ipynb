{
 "cells": [
  {
   "cell_type": "markdown",
   "id": "2c76ac79",
   "metadata": {},
   "source": [
    "# Laboratorio 6 - Análisis de Redes sociales"
   ]
  },
  {
   "cell_type": "markdown",
   "id": "a1e51d20",
   "metadata": {},
   "source": [
    "### Sebastian Juarez - 21471\n",
    "### Juan Pablo Cordón - 21458\n",
    "\n",
    "Link al repositorio de Github: https://github.com/SebasJuarez/DS-Collection/tree/Lab6"
   ]
  },
  {
   "cell_type": "markdown",
   "id": "ea79fafb",
   "metadata": {},
   "source": [
    "## Avances"
   ]
  }
 ],
 "metadata": {
  "kernelspec": {
   "display_name": "Python 3",
   "language": "python",
   "name": "python3"
  },
  "language_info": {
   "codemirror_mode": {
    "name": "ipython",
    "version": 3
   },
   "file_extension": ".py",
   "mimetype": "text/x-python",
   "name": "python",
   "nbconvert_exporter": "python",
   "pygments_lexer": "ipython3",
   "version": "3.9.13"
  }
 },
 "nbformat": 4,
 "nbformat_minor": 5
}
