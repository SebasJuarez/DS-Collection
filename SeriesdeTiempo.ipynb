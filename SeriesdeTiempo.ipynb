{
 "cells": [
  {
   "cell_type": "markdown",
   "id": "711b9eb2",
   "metadata": {},
   "source": [
    "## Laboratorio 1 - Series de Tiempo\n",
    "#### Sebastian Juarez - 21471"
   ]
  },
  {
   "cell_type": "markdown",
   "id": "126309a4",
   "metadata": {},
   "source": [
    "### Analisis Exploratorio"
   ]
  },
  {
   "cell_type": "code",
   "execution_count": 2,
   "id": "36135abc",
   "metadata": {},
   "outputs": [
    {
     "data": {
      "text/html": [
       "<div>\n",
       "<style scoped>\n",
       "    .dataframe tbody tr th:only-of-type {\n",
       "        vertical-align: middle;\n",
       "    }\n",
       "\n",
       "    .dataframe tbody tr th {\n",
       "        vertical-align: top;\n",
       "    }\n",
       "\n",
       "    .dataframe thead th {\n",
       "        text-align: right;\n",
       "    }\n",
       "</style>\n",
       "<table border=\"1\" class=\"dataframe\">\n",
       "  <thead>\n",
       "    <tr style=\"text-align: right;\">\n",
       "      <th></th>\n",
       "      <th>Fecha</th>\n",
       "      <th>Superior</th>\n",
       "      <th>Regular</th>\n",
       "      <th>Diesel</th>\n",
       "      <th>Gas_Licuado</th>\n",
       "    </tr>\n",
       "  </thead>\n",
       "  <tbody>\n",
       "    <tr>\n",
       "      <th>0</th>\n",
       "      <td>2021-01-05</td>\n",
       "      <td>21.91</td>\n",
       "      <td>21.11</td>\n",
       "      <td>17.61</td>\n",
       "      <td>99.0</td>\n",
       "    </tr>\n",
       "    <tr>\n",
       "      <th>1</th>\n",
       "      <td>2021-01-06</td>\n",
       "      <td>21.91</td>\n",
       "      <td>21.11</td>\n",
       "      <td>17.61</td>\n",
       "      <td>99.0</td>\n",
       "    </tr>\n",
       "    <tr>\n",
       "      <th>2</th>\n",
       "      <td>2021-01-07</td>\n",
       "      <td>21.91</td>\n",
       "      <td>21.11</td>\n",
       "      <td>17.61</td>\n",
       "      <td>99.0</td>\n",
       "    </tr>\n",
       "    <tr>\n",
       "      <th>3</th>\n",
       "      <td>2021-01-08</td>\n",
       "      <td>21.91</td>\n",
       "      <td>21.11</td>\n",
       "      <td>17.61</td>\n",
       "      <td>99.0</td>\n",
       "    </tr>\n",
       "    <tr>\n",
       "      <th>4</th>\n",
       "      <td>2021-01-09</td>\n",
       "      <td>21.91</td>\n",
       "      <td>21.11</td>\n",
       "      <td>17.61</td>\n",
       "      <td>99.0</td>\n",
       "    </tr>\n",
       "  </tbody>\n",
       "</table>\n",
       "</div>"
      ],
      "text/plain": [
       "       Fecha  Superior  Regular  Diesel  Gas_Licuado\n",
       "0 2021-01-05     21.91    21.11   17.61         99.0\n",
       "1 2021-01-06     21.91    21.11   17.61         99.0\n",
       "2 2021-01-07     21.91    21.11   17.61         99.0\n",
       "3 2021-01-08     21.91    21.11   17.61         99.0\n",
       "4 2021-01-09     21.91    21.11   17.61         99.0"
      ]
     },
     "execution_count": 2,
     "metadata": {},
     "output_type": "execute_result"
    }
   ],
   "source": [
    "import pandas as pd\n",
    "\n",
    "# Cargar el archivo Excel\n",
    "archivo = 'data/Precios-Promedio-Nacionales-Diarios-2025-1.xlsx'\n",
    "xls = pd.ExcelFile(archivo)\n",
    "\n",
    "# Cargar la hoja 'Datos' sin encabezados\n",
    "df = xls.parse('Datos', header=None, skiprows=6)\n",
    "\n",
    "# Asignar nombres de columnas\n",
    "df.columns = ['Fecha', 'Tipo_Cambio', 'Superior', 'Regular', 'Diesel', 'Bunker', 'Gas_Licuado', 'GLP_LB']\n",
    "\n",
    "# Seleccionar solo variables de interés\n",
    "df_final = df[['Fecha', 'Superior', 'Regular', 'Diesel', 'Gas_Licuado']].copy()\n",
    "\n",
    "# Convertir fecha\n",
    "df_final['Fecha'] = pd.to_datetime(df_final['Fecha'])\n",
    "\n",
    "# Vista previa\n",
    "df_final.head()\n"
   ]
  }
 ],
 "metadata": {
  "kernelspec": {
   "display_name": "Python 3",
   "language": "python",
   "name": "python3"
  },
  "language_info": {
   "codemirror_mode": {
    "name": "ipython",
    "version": 3
   },
   "file_extension": ".py",
   "mimetype": "text/x-python",
   "name": "python",
   "nbconvert_exporter": "python",
   "pygments_lexer": "ipython3",
   "version": "3.9.13"
  }
 },
 "nbformat": 4,
 "nbformat_minor": 5
}
