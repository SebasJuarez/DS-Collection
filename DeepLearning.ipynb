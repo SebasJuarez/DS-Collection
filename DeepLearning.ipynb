{
 "cells": [
  {
   "cell_type": "markdown",
   "id": "d589420b",
   "metadata": {},
   "source": [
    "# Laboratorio 3 - Deep Learning / Redes Neuronales"
   ]
  },
  {
   "cell_type": "markdown",
   "id": "48b6dfe4",
   "metadata": {},
   "source": [
    "### Sebastian Juárez 21471\n",
    "Link al repo: https://github.com/SebasJuarez/DS-Collection/tree/Lab3"
   ]
  },
  {
   "cell_type": "markdown",
   "id": "7354495b",
   "metadata": {},
   "source": [
    "## Analisis Exploratorio"
   ]
  },
  {
   "cell_type": "code",
   "execution_count": 55,
   "id": "3992dccd",
   "metadata": {},
   "outputs": [
    {
     "data": {
      "image/png": "[encoded data removed]",
      "text/plain": [
       "<Figure size 1500x400 with 5 Axes>"
      ]
     },
     "metadata": {},
     "output_type": "display_data"
    }
   ],
   "source": [
    "import os\n",
    "import matplotlib.pyplot as plt\n",
    "from PIL import Image\n",
    "\n",
    "base_path = \".\\\\Data\\\\Poly\\\\PolyMNIST\\\\MMNIST\\\\train\"\n",
    "\n",
    "modalidades = [\"m0\", \"m1\", \"m2\", \"m3\", \"m4\"]\n",
    "\n",
    "fig, axs = plt.subplots(1, 5, figsize=(15, 4))\n",
    "\n",
    "for i, modalidad in enumerate(modalidades):\n",
    "    img_path = os.path.join(base_path, modalidad, \"0.0.png\")\n",
    "    img = Image.open(img_path)\n",
    "    axs[i].imshow(img, cmap='gray')\n",
    "    axs[i].set_title(f\"Modalidad {modalidad}\")\n",
    "    axs[i].axis('off')\n",
    "\n",
    "plt.tight_layout()\n",
    "plt.show()\n"
   ]
  },
  {
   "cell_type": "code",
   "execution_count": 56,
   "id": "5975d244",
   "metadata": {},
   "outputs": [
    {
     "name": "stdout",
     "output_type": "stream",
     "text": [
      "  modalidad  train_imgs  test_imgs resolucion\n",
      "0        m0       60000      10000      28x28\n",
      "1        m1       60000      10000      28x28\n",
      "2        m2       60000      10000      28x28\n",
      "3        m3       60000      10000      28x28\n",
      "4        m4       60000      10000      28x28\n"
     ]
    }
   ],
   "source": [
    "from PIL import Image\n",
    "import pandas as pd\n",
    "\n",
    "conteo = {\"modalidad\": [], \"train_imgs\": [], \"test_imgs\": [], \"resolucion\": []}\n",
    "\n",
    "for modalidad in modalidades:\n",
    "    train_dir = os.path.join(base_path, modalidad)\n",
    "    # Cambia base_path de train a test para test_dir\n",
    "    test_base_path = base_path.replace(\"train\", \"test\")\n",
    "    test_dir = os.path.join(test_base_path, modalidad)\n",
    "\n",
    "    train_imgs = os.listdir(train_dir)\n",
    "    test_imgs = os.listdir(test_dir)\n",
    "\n",
    "    # Tomar una imagen para verificar resolución\n",
    "    sample_img = Image.open(os.path.join(train_dir, train_imgs[0]))\n",
    "    resolucion = sample_img.size  # (ancho, alto)\n",
    "\n",
    "    conteo[\"modalidad\"].append(modalidad)\n",
    "    conteo[\"train_imgs\"].append(len(train_imgs))\n",
    "    conteo[\"test_imgs\"].append(len(test_imgs))\n",
    "    conteo[\"resolucion\"].append(f\"{resolucion[0]}x{resolucion[1]}\")\n",
    "\n",
    "df_conteo = pd.DataFrame(conteo)\n",
    "print(df_conteo)\n"
   ]
  },
  {
   "cell_type": "markdown",
   "id": "6039212b",
   "metadata": {},
   "source": [
    "## Division de imagenes"
   ]
  },
  {
   "cell_type": "code",
   "execution_count": 57,
   "id": "f6244948",
   "metadata": {},
   "outputs": [],
   "source": [
    "from torch.utils.data import Dataset\n",
    "from PIL import Image\n",
    "import os\n",
    "\n",
    "class PolyMNISTDataset(Dataset):\n",
    "    def __init__(self, folder_path, transform=None):\n",
    "        self.folder_path = folder_path\n",
    "        self.img_names = [f for f in os.listdir(folder_path) if f.endswith(\".png\")]\n",
    "        self.transform = transform\n",
    "\n",
    "        # Filtrar solo imágenes con etiquetas válidas (0 a 9)\n",
    "        self.img_names = [f for f in self.img_names if self._get_label(f) in range(10)]\n",
    "\n",
    "    def _get_label(self, fname):\n",
    "        # fname = \"1609.4.png\" → split = [\"1609\", \"4\", \"png\"]\n",
    "        return int(fname.split('.')[1])\n",
    "\n",
    "    def __len__(self):\n",
    "        return len(self.img_names)\n",
    "\n",
    "    def __getitem__(self, idx):\n",
    "        img_name = self.img_names[idx]\n",
    "        label = self._get_label(img_name)\n",
    "        img_path = os.path.join(self.folder_path, img_name)\n",
    "        image = Image.open(img_path).convert('L')\n",
    "        if self.transform:\n",
    "            image = self.transform(image)\n",
    "        return image, label\n",
    "\n"
   ]
  },
  {
   "cell_type": "code",
   "execution_count": 58,
   "id": "54704bd2",
   "metadata": {},
   "outputs": [],
   "source": [
    "import torchvision.transforms as transforms\n",
    "\n",
    "# Transformaciones para entrenamiento con augmentations\n",
    "transform_train = transforms.Compose([\n",
    "    transforms.RandomRotation(10),\n",
    "    transforms.RandomAffine(degrees=0, translate=(0.1, 0.1)),\n",
    "    transforms.ToTensor()\n",
    "])\n",
    "\n",
    "# Transformaciones para prueba sin augmentations\n",
    "transform_test = transforms.Compose([\n",
    "    transforms.ToTensor()\n",
    "])\n"
   ]
  },
  {
   "cell_type": "code",
   "execution_count": 59,
   "id": "e09d20ed",
   "metadata": {},
   "outputs": [],
   "source": [
    "# Seleccionamos una modalidad, por ejemplo \"m0\"\n",
    "modalidad = \"m0\"\n",
    "train_path = f\"Data/Poly/PolyMNIST/MMNIST/train/{modalidad}\"\n",
    "test_path  = f\"Data/Poly/PolyMNIST/MMNIST/test/{modalidad}\"\n",
    "\n",
    "# Instanciar datasets\n",
    "train_dataset = PolyMNISTDataset(train_path, transform=transform_train)\n",
    "test_dataset  = PolyMNISTDataset(test_path, transform=transform_test)\n"
   ]
  },
  {
   "cell_type": "code",
   "execution_count": 60,
   "id": "842b89da",
   "metadata": {},
   "outputs": [],
   "source": [
    "from torch.utils.data import DataLoader\n",
    "\n",
    "batch_size = 64\n",
    "\n",
    "train_loader = DataLoader(train_dataset, batch_size=batch_size, shuffle=True)\n",
    "test_loader  = DataLoader(test_dataset, batch_size=batch_size, shuffle=False)\n"
   ]
  },
  {
   "cell_type": "markdown",
   "id": "ab21d3b9",
   "metadata": {},
   "source": [
    "Se dividen las imágenes en conjuntos de entrenamiento y prueba para poder entrenar los modelos con una parte de los datos y luego evaluar qué tan bien aprenden usando imágenes nuevas. Esto nos ayuda a saber si el modelo generaliza bien y no solo \"memoriza\" los ejemplos que ya vio."
   ]
  },
  {
   "cell_type": "markdown",
   "id": "6035dfc0",
   "metadata": {},
   "source": [
    "## Modelo CNN"
   ]
  },
  {
   "cell_type": "code",
   "execution_count": 51,
   "id": "5d13e687",
   "metadata": {},
   "outputs": [],
   "source": [
    "import torch\n",
    "import torch.nn as nn\n",
    "import torch.nn.functional as F\n",
    "\n",
    "class CNNModel(nn.Module):\n",
    "    def __init__(self):\n",
    "        super(CNNModel, self).__init__()\n",
    "        self.conv1 = nn.Conv2d(1, 32, 3, padding=1)\n",
    "        self.pool  = nn.MaxPool2d(2, 2)\n",
    "        self.conv2 = nn.Conv2d(32, 64, 3, padding=1)\n",
    "        self.fc1   = nn.Linear(64 * 7 * 7, 128)\n",
    "        self.fc2   = nn.Linear(128, 10)\n",
    "\n",
    "    def forward(self, x):\n",
    "        x = self.pool(F.relu(self.conv1(x)))  # -> [32, 14, 14]\n",
    "        x = self.pool(F.relu(self.conv2(x)))  # -> [64, 7, 7]\n",
    "        x = x.view(-1, 64 * 7 * 7)\n",
    "        x = F.relu(self.fc1(x))\n",
    "        x = self.fc2(x)\n",
    "        return x\n"
   ]
  },
  {
   "cell_type": "code",
   "execution_count": null,
   "id": "4cc2ec90",
   "metadata": {},
   "outputs": [
    {
     "name": "stdout",
     "output_type": "stream",
     "text": [
      "Usando: cpu\n"
     ]
    }
   ],
   "source": [
    "import torch\n",
    "from torch import optim\n",
    "\n",
    "device = torch.device(\"cuda\" if torch.cuda.is_available() else \"cpu\")\n",
    "print(\"Usando:\", device)\n",
    "\n",
    "model = CNNModel().to(device)\n",
    "criterion = nn.CrossEntropyLoss()\n",
    "optimizer = optim.Adam(model.parameters(), lr=0.001)\n",
    "\n",
    "def entrenar_modelo(model, train_loader, test_loader, epochs=5):\n",
    "    for epoch in range(epochs):\n",
    "        model.train()\n",
    "        running_loss = 0.0\n",
    "        correct = 0\n",
    "        total = 0\n",
    "\n",
    "        for images, labels in train_loader:\n",
    "            images, labels = images.to(device), labels.to(device)\n",
    "\n",
    "            optimizer.zero_grad()\n",
    "            outputs = model(images)\n",
    "            loss = criterion(outputs, labels)\n",
    "            loss.backward()\n",
    "            optimizer.step()\n",
    "\n",
    "            running_loss += loss.item()\n",
    "            _, predicted = torch.max(outputs, 1)\n",
    "            total += labels.size(0)\n",
    "            correct += (predicted == labels).sum().item()\n",
    "\n",
    "        acc = correct / total * 100\n",
    "        print(f\"Época {epoch+1}: pérdida = {running_loss:.4f}, accuracy = {acc:.2f}%\")\n",
    "\n",
    "    print(\"Entrenamiento completo.\")\n"
   ]
  },
  {
   "cell_type": "code",
   "execution_count": 53,
   "id": "50588f48",
   "metadata": {},
   "outputs": [],
   "source": [
    "def evaluar_modelo(model, test_loader):\n",
    "    model.eval()\n",
    "    correct = 0\n",
    "    total = 0\n",
    "\n",
    "    with torch.no_grad():\n",
    "        for images, labels in test_loader:\n",
    "            images, labels = images.to(device), labels.to(device)\n",
    "            outputs = model(images)\n",
    "            _, predicted = torch.max(outputs, 1)\n",
    "            total += labels.size(0)\n",
    "            correct += (predicted == labels).sum().item()\n",
    "\n",
    "    accuracy = correct / total * 100\n",
    "    print(f\"Accuracy en test: {accuracy:.2f}%\")\n"
   ]
  },
  {
   "cell_type": "code",
   "execution_count": 54,
   "id": "bdaf22a8",
   "metadata": {},
   "outputs": [
    {
     "name": "stdout",
     "output_type": "stream",
     "text": [
      "Época 1: pérdida = 1096.7440, accuracy = 60.61%\n",
      "Época 2: pérdida = 639.4669, accuracy = 78.07%\n",
      "Época 3: pérdida = 509.0544, accuracy = 82.57%\n",
      "Época 4: pérdida = 419.1430, accuracy = 85.63%\n",
      "Época 5: pérdida = 357.3108, accuracy = 87.70%\n",
      "Entrenamiento completo.\n",
      "Accuracy en test: 93.56%\n"
     ]
    }
   ],
   "source": [
    "entrenar_modelo(model, train_loader, test_loader, epochs=5)\n",
    "evaluar_modelo(model, test_loader)\n"
   ]
  },
  {
   "cell_type": "markdown",
   "id": "a4227c81",
   "metadata": {},
   "source": [
    "## Red Neuronal Simple"
   ]
  },
  {
   "cell_type": "code",
   "execution_count": 41,
   "id": "88ba0cd3",
   "metadata": {},
   "outputs": [],
   "source": [
    "class SimpleNN(nn.Module):\n",
    "    def __init__(self):\n",
    "        super(SimpleNN, self).__init__()\n",
    "        self.fc1 = nn.Linear(28*28, 256)\n",
    "        self.fc2 = nn.Linear(256, 128)\n",
    "        self.fc3 = nn.Linear(128, 10)\n",
    "    \n",
    "    def forward(self, x):\n",
    "        x = x.view(-1, 28*28)  # Flatten\n",
    "        x = F.relu(self.fc1(x))\n",
    "        x = F.relu(self.fc2(x))\n",
    "        x = self.fc3(x)\n",
    "        return x\n"
   ]
  },
  {
   "cell_type": "code",
   "execution_count": 42,
   "id": "396d0830",
   "metadata": {},
   "outputs": [
    {
     "name": "stdout",
     "output_type": "stream",
     "text": [
      "Época 1: pérdida = 1909.5798, accuracy = 25.83%\n",
      "Época 2: pérdida = 1480.4056, accuracy = 46.41%\n",
      "Época 3: pérdida = 1330.8133, accuracy = 52.49%\n",
      "Época 4: pérdida = 1241.2734, accuracy = 55.84%\n",
      "Época 5: pérdida = 1189.0695, accuracy = 57.84%\n",
      "Entrenamiento completo.\n",
      "Accuracy en test: 62.85%\n"
     ]
    }
   ],
   "source": [
    "model = SimpleNN().to(device)\n",
    "optimizer = optim.Adam(model.parameters(), lr=0.001)\n",
    "\n",
    "entrenar_modelo(model, train_loader, test_loader, epochs=5)\n",
    "evaluar_modelo(model, test_loader)\n"
   ]
  },
  {
   "cell_type": "code",
   "execution_count": null,
   "id": "cad8732a",
   "metadata": {},
   "outputs": [
    {
     "name": "stdout",
     "output_type": "stream",
     "text": [
      "Época 1: pérdida = 2096.7534, accuracy = 14.85%\n",
      "Época 2: pérdida = 1951.4264, accuracy = 22.88%\n",
      "Época 3: pérdida = 1884.6732, accuracy = 26.01%\n",
      "Época 4: pérdida = 1839.5458, accuracy = 28.53%\n",
      "Época 5: pérdida = 1815.9937, accuracy = 29.53%\n",
      "Época 6: pérdida = 1783.5601, accuracy = 31.20%\n",
      "Época 7: pérdida = 1755.2956, accuracy = 32.97%\n",
      "Época 8: pérdida = 1716.1368, accuracy = 34.76%\n",
      "Época 9: pérdida = 1694.1310, accuracy = 35.94%\n",
      "Época 10: pérdida = 1670.1448, accuracy = 37.38%\n",
      "Época 11: pérdida = 1649.6519, accuracy = 38.12%\n",
      "Época 12: pérdida = 1630.2269, accuracy = 39.47%\n",
      "Época 13: pérdida = 1604.8552, accuracy = 40.52%\n",
      "Época 14: pérdida = 1593.6718, accuracy = 41.07%\n",
      "Época 15: pérdida = 1578.3363, accuracy = 41.68%\n",
      "Entrenamiento completo.\n",
      "Accuracy en test: 57.61%\n"
     ]
    }
   ],
   "source": [
    "import torch.nn as nn\n",
    "import torch.nn.functional as F\n",
    "\n",
    "class ImprovedSimpleNN(nn.Module):\n",
    "    def __init__(self):\n",
    "        super(ImprovedSimpleNN, self).__init__()\n",
    "        self.fc1 = nn.Linear(28*28, 512)\n",
    "        self.fc2 = nn.Linear(512, 256)\n",
    "        self.fc3 = nn.Linear(256, 128)\n",
    "        self.fc4 = nn.Linear(128, 10)\n",
    "        self.dropout = nn.Dropout(0.3)\n",
    "    \n",
    "    def forward(self, x):\n",
    "        x = x.view(-1, 28*28)\n",
    "        x = F.relu(self.fc1(x))\n",
    "        x = self.dropout(x)\n",
    "        x = F.relu(self.fc2(x))\n",
    "        x = self.dropout(x)\n",
    "        x = F.relu(self.fc3(x))\n",
    "        x = self.dropout(x)\n",
    "        x = self.fc4(x)\n",
    "        return x\n",
    "\n",
    "transform_train = transforms.Compose([\n",
    "    transforms.ToTensor(),\n",
    "    transforms.Normalize((0.5,), (0.5,))\n",
    "])\n",
    "\n",
    "transform_test = transforms.Compose([\n",
    "    transforms.ToTensor(),\n",
    "    transforms.Normalize((0.5,), (0.5,))\n",
    "])\n",
    "\n",
    "model = ImprovedSimpleNN().to(device)\n",
    "criterion = nn.CrossEntropyLoss()\n",
    "optimizer = optim.Adam(model.parameters(), lr=0.001)\n",
    "\n",
    "entrenar_modelo(model, train_loader, test_loader, epochs=15)\n",
    "evaluar_modelo(model, test_loader)\n"
   ]
  },
  {
   "cell_type": "markdown",
   "id": "b86752f1",
   "metadata": {},
   "source": [
    "## Desarrollo de otro modelo: Pruebas con KKN"
   ]
  },
  {
   "cell_type": "code",
   "execution_count": null,
   "id": "0b341655",
   "metadata": {},
   "outputs": [],
   "source": [
    "import numpy as np\n",
    "\n",
    "def convertir_dataset_para_sklearn(dataset, max_muestras=5000):\n",
    "    X = []\n",
    "    y = []\n",
    "    for i in range(min(len(dataset), max_muestras)):\n",
    "        img, label = dataset[i]\n",
    "        X.append(img.view(-1).numpy())\n",
    "        y.append(label)\n",
    "    return np.array(X), np.array(y)\n",
    "\n",
    "X_train_knn, y_train_knn = convertir_dataset_para_sklearn(train_dataset, max_muestras=5000)\n",
    "X_test_knn, y_test_knn = convertir_dataset_para_sklearn(test_dataset, max_muestras=1000)\n"
   ]
  },
  {
   "cell_type": "code",
   "execution_count": null,
   "id": "b47cdf1e",
   "metadata": {},
   "outputs": [],
   "source": [
    "from sklearn.preprocessing import StandardScaler\n",
    "from sklearn.decomposition import PCA\n",
    "\n",
    "def preparar_para_knn(train_dataset, test_dataset, n_train=5000, n_test=1000, n_components=100):\n",
    "    def convertir_dataset(dataset, max_muestras):\n",
    "        X, y = [], []\n",
    "        for i in range(min(len(dataset), max_muestras)):\n",
    "            img, label = dataset[i]\n",
    "            X.append(img.view(-1).numpy())\n",
    "            y.append(label)\n",
    "        return np.array(X), np.array(y)\n",
    "\n",
    "    X_train_raw, y_train = convertir_dataset(train_dataset, n_train)\n",
    "    X_test_raw, y_test = convertir_dataset(test_dataset, n_test)\n",
    "\n",
    "    scaler = StandardScaler()\n",
    "    X_train_scaled = scaler.fit_transform(X_train_raw)\n",
    "    X_test_scaled = scaler.transform(X_test_raw)\n",
    "\n",
    "    pca = PCA(n_components=n_components)\n",
    "    X_train_pca = pca.fit_transform(X_train_scaled)\n",
    "    X_test_pca = pca.transform(X_test_scaled)\n",
    "\n",
    "    return X_train_pca, X_test_pca, y_train, y_test\n",
    "\n",
    "X_train_knn, X_test_knn, y_train_knn, y_test_knn = preparar_para_knn(train_dataset, test_dataset)\n"
   ]
  },
  {
   "cell_type": "code",
   "execution_count": 35,
   "id": "6631e0f3",
   "metadata": {},
   "outputs": [
    {
     "name": "stdout",
     "output_type": "stream",
     "text": [
      "Accuracy KNN optimizado: 40.60%\n"
     ]
    }
   ],
   "source": [
    "from sklearn.neighbors import KNeighborsClassifier\n",
    "from sklearn.metrics import accuracy_score\n",
    "\n",
    "knn = KNeighborsClassifier(n_neighbors=5, weights='distance')\n",
    "knn.fit(X_train_knn, y_train_knn)\n",
    "y_pred = knn.predict(X_test_knn)\n",
    "\n",
    "print(f\"Accuracy KNN optimizado: {accuracy_score(y_test_knn, y_pred) * 100:.2f}%\")"
   ]
  },
  {
   "cell_type": "markdown",
   "id": "c3c0419a",
   "metadata": {},
   "source": [
    "Se probó el modelo KNN porque es uno de los métodos más simples y conocidos para clasificación. Aunque no tuvo buenos resultados en este caso, nos sirvió como punto de comparación para ver qué tan importante es usar modelos más avanzados cuando las imágenes tienen ruido o fondos complejos."
   ]
  },
  {
   "cell_type": "markdown",
   "id": "1ea21238",
   "metadata": {},
   "source": [
    "## Desarrollo de otro modelo: Pruebas con SVM"
   ]
  },
  {
   "cell_type": "code",
   "execution_count": null,
   "id": "9e85601b",
   "metadata": {},
   "outputs": [
    {
     "name": "stdout",
     "output_type": "stream",
     "text": [
      "Accuracy SVM: 58.10%\n",
      "              precision    recall  f1-score   support\n",
      "\n",
      "           0       0.46      0.80      0.58        79\n",
      "           1       0.83      0.62      0.71       214\n",
      "           2       0.58      0.63      0.61       111\n",
      "           3       0.66      0.43      0.52        89\n",
      "           4       0.53      0.49      0.51        79\n",
      "           5       0.54      0.49      0.52        79\n",
      "           6       0.48      0.69      0.57        78\n",
      "           7       0.71      0.57      0.63       106\n",
      "           8       0.37      0.49      0.42        78\n",
      "           9       0.58      0.54      0.56        87\n",
      "\n",
      "    accuracy                           0.58      1000\n",
      "   macro avg       0.57      0.57      0.56      1000\n",
      "weighted avg       0.61      0.58      0.59      1000\n",
      "\n"
     ]
    }
   ],
   "source": [
    "from sklearn.svm import SVC\n",
    "from sklearn.metrics import accuracy_score, classification_report\n",
    "\n",
    "X_train_svm, X_test_svm, y_train_svm, y_test_svm = preparar_para_knn(train_dataset, test_dataset)\n",
    "\n",
    "svm = SVC(kernel='rbf', gamma='scale')\n",
    "svm.fit(X_train_svm, y_train_svm)\n",
    "\n",
    "y_pred_svm = svm.predict(X_test_svm)\n",
    "acc_svm = accuracy_score(y_test_svm, y_pred_svm)\n",
    "\n",
    "print(f\"Accuracy SVM: {acc_svm * 100:.2f}%\")\n",
    "print(classification_report(y_test_svm, y_pred_svm))\n"
   ]
  },
  {
   "cell_type": "code",
   "execution_count": null,
   "id": "fd32eba6",
   "metadata": {},
   "outputs": [
    {
     "name": "stdout",
     "output_type": "stream",
     "text": [
      "Fitting 3 folds for each of 16 candidates, totalling 48 fits\n",
      "Mejores hiperparámetros encontrados: {'C': 10, 'degree': 2, 'gamma': 'scale', 'kernel': 'rbf'}\n",
      "Accuracy con SVM optimizado: 58.90%\n",
      "              precision    recall  f1-score   support\n",
      "\n",
      "           0       0.57      0.76      0.65        79\n",
      "           1       0.73      0.71      0.72       214\n",
      "           2       0.72      0.62      0.67       111\n",
      "           3       0.61      0.43      0.50        89\n",
      "           4       0.45      0.61      0.52        79\n",
      "           5       0.49      0.47      0.48        79\n",
      "           6       0.58      0.68      0.63        78\n",
      "           7       0.54      0.48      0.51       106\n",
      "           8       0.44      0.44      0.44        78\n",
      "           9       0.57      0.54      0.55        87\n",
      "\n",
      "    accuracy                           0.59      1000\n",
      "   macro avg       0.57      0.57      0.57      1000\n",
      "weighted avg       0.60      0.59      0.59      1000\n",
      "\n"
     ]
    }
   ],
   "source": [
    "from sklearn.model_selection import GridSearchCV\n",
    "from sklearn.svm import SVC\n",
    "\n",
    "param_grid = {\n",
    "    'C': [1, 10],\n",
    "    'kernel': ['rbf', 'poly'],\n",
    "    'gamma': ['scale', 'auto'],\n",
    "    'degree': [2, 3] \n",
    "}\n",
    "\n",
    "svc = SVC()\n",
    "\n",
    "grid_search = GridSearchCV(svc, param_grid, cv=3, verbose=2, n_jobs=-1)\n",
    "grid_search.fit(X_train_svm, y_train_svm)\n",
    "\n",
    "mejor_svm = grid_search.best_estimator_\n",
    "print(\"Mejores hiperparámetros encontrados:\", grid_search.best_params_)\n",
    "\n",
    "y_pred = mejor_svm.predict(X_test_svm)\n",
    "acc = accuracy_score(y_test_svm, y_pred)\n",
    "print(f\"Accuracy con SVM optimizado: {acc * 100:.2f}%\")\n",
    "print(classification_report(y_test_svm, y_pred))\n"
   ]
  },
  {
   "cell_type": "markdown",
   "id": "a75a1267",
   "metadata": {},
   "source": [
    "Se hizo otra prueba con este modelo porque es otro metodo bastante basico que funciona bien en muchos problemas de clasificación. A pesar de no ser una red neuronal, nos permitió ver que si es que hay un buen preprocesamiento y ajuste de parámetros, puede tener un rendimiento aceptable, aunque sigue siendo superado por las CNN con un gran margen."
   ]
  },
  {
   "cell_type": "markdown",
   "id": "986a8f43",
   "metadata": {},
   "source": [
    "## Comparación de los modelos"
   ]
  },
  {
   "cell_type": "code",
   "execution_count": 62,
   "id": "3a39a250",
   "metadata": {},
   "outputs": [
    {
     "data": {
      "image/png": "[encoded data removed]",
      "text/plain": [
       "<Figure size 1000x600 with 1 Axes>"
      ]
     },
     "metadata": {},
     "output_type": "display_data"
    }
   ],
   "source": [
    "modelos = [\n",
    "    \"CNN\",\n",
    "    \"Red NN Simple\",\n",
    "    \"Red NN Mejorada\",\n",
    "    \"SVM\",\n",
    "    \"SVM Opt.\",\n",
    "    \"KNN\"\n",
    "]\n",
    "\n",
    "accuracies = [\n",
    "    93.56,\n",
    "    62.85,\n",
    "    57.61,\n",
    "    58.10,\n",
    "    58.90,\n",
    "    40.60\n",
    "]\n",
    "\n",
    "plt.figure(figsize=(10, 6))\n",
    "bars = plt.bar(modelos, accuracies, color='skyblue')\n",
    "plt.title(\"Comparación de modelos - Accuracy en PolyMNIST\")\n",
    "plt.ylabel(\"Accuracy (%)\")\n",
    "plt.ylim(0, 100)\n",
    "\n",
    "for bar, acc in zip(bars, accuracies):\n",
    "    yval = bar.get_height()\n",
    "    plt.text(bar.get_x() + bar.get_width()/2.0, yval + 1, f\"{acc:.2f}%\", ha='center', va='bottom')\n",
    "\n",
    "plt.xticks(rotation=15)\n",
    "plt.grid(axis='y', linestyle='--', alpha=0.6)\n",
    "plt.tight_layout()\n",
    "plt.show()\n"
   ]
  },
  {
   "cell_type": "markdown",
   "id": "6d61fdd8",
   "metadata": {},
   "source": [
    "En este laboratorio probamos varios modelos para reconocer dígitos escritos a mano usando imágenes del dataset PolyMNIST, que comparados a otros datasets, este es bastante mas difícil ya que hay mucho ruido que puede llegar a ser un desafio para ciertos modelos de clasificación.\n",
    "\n",
    "El modelo que dio los mejores resultados fue la red neuronal convolucional (CNN), con una precisión del 93.56%. Podemos pensar que esto se debe a que las CNN están diseñadas para trabajar con imágenes y pueden aprender patrones visuales como bordes, formas y posiciones, en cambio a todos los otros modelos se les tiene que hacer ciertos ajustes para tratar de mejorar su desempeño.\n",
    "\n",
    "La red neuronal simple y su versión mejorada (con más capas y dropout) no lograron superar el 63% de precisión. Esto confirma que las redes densas no son buenas para procesar imágenes complejas y esto se puede atribuir a que este modelo no puede entender ciertas estructuras de los pixeles.\n",
    "\n",
    "También probamos modelos más tradicionales como KNN y SVM, que son fáciles de implementar. El SVM tuvo un desempeño aceptable (~59%) después de ajustar sus parámetros, pero aún quedó lejos del resultado de la CNN. KNN fue el modelo con menor precisión ya que si se vio afectado por el ruido del fondo de las imagenes."
   ]
  }
 ],
 "metadata": {
  "kernelspec": {
   "display_name": "Python 3",
   "language": "python",
   "name": "python3"
  },
  "language_info": {
   "codemirror_mode": {
    "name": "ipython",
    "version": 3
   },
   "file_extension": ".py",
   "mimetype": "text/x-python",
   "name": "python",
   "nbconvert_exporter": "python",
   "pygments_lexer": "ipython3",
   "version": "3.9.13"
  }
 },
 "nbformat": 4,
 "nbformat_minor": 5
}
